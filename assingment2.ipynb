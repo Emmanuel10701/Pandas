{
  "nbformat": 4,
  "nbformat_minor": 0,
  "metadata": {
    "colab": {
      "provenance": [],
      "authorship_tag": "ABX9TyNOuamO1+DUhjpPuxl6i8df",
      "include_colab_link": true
    },
    "kernelspec": {
      "name": "python3",
      "display_name": "Python 3"
    },
    "language_info": {
      "name": "python"
    }
  },
  "cells": [
    {
      "cell_type": "markdown",
      "metadata": {
        "id": "view-in-github",
        "colab_type": "text"
      },
      "source": [
        "<a href=\"https://colab.research.google.com/github/Emmanuel10701/Pandas/blob/main/assingment2.ipynb\" target=\"_parent\"><img src=\"https://colab.research.google.com/assets/colab-badge.svg\" alt=\"Open In Colab\"/></a>"
      ]
    },
    {
      "cell_type": "code",
      "execution_count": null,
      "metadata": {
        "colab": {
          "base_uri": "https://localhost:8080/"
        },
        "id": "r4KPs9-lsF4x",
        "outputId": "5cab6887-2e53-4b80-eb67-861ce10a8335"
      },
      "outputs": [
        {
          "output_type": "stream",
          "name": "stdout",
          "text": [
            "Even numbers: [  0   2   4   6   8  10  12  14  16  18  20  22  24  26  28  30  32  34\n",
            "  36  38  40  42  44  46  48  50  52  54  56  58  60  62  64  66  68  70\n",
            "  72  74  76  78  80  82  84  86  88  90  92  94  96  98 100]\n",
            "Odd numbers: [ 1  3  5  7  9 11 13 15 17 19 21 23 25 27 29 31 33 35 37 39 41 43 45 47\n",
            " 49 51 53 55 57 59 61 63 65 67 69 71 73 75 77 79 81 83 85 87 89 91 93 95\n",
            " 97 99]\n",
            "Prime numbers: [2, 3, 5, 7, 11, 13, 17, 19, 23, 29, 31, 37, 41, 43, 47, 53, 59, 61, 67, 71, 73, 79, 83, 89, 97]\n"
          ]
        }
      ],
      "source": [
        "\n",
        "import numpy as np\n",
        "\n",
        "# Even numbers from 0 to 100\n",
        "even_numbers = np.arange(0, 101, 2)\n",
        "print(\"Even numbers:\", even_numbers)\n",
        "\n",
        "# Odd numbers from 0 to 100\n",
        "odd_numbers = np.arange(1, 101, 2)\n",
        "print(\"Odd numbers:\", odd_numbers)\n",
        "\n",
        "# Function to check if a number is prime\n",
        "def is_prime(n):\n",
        "  if n < 2:\n",
        "    return False\n",
        "  for i in range(2, int(np.sqrt(n)) + 1):\n",
        "    if n % i == 0:\n",
        "      return False\n",
        "  return True\n",
        "\n",
        "# Prime numbers from 0 to 100\n",
        "prime_numbers = [num for num in range(101) if is_prime(num)]\n",
        "print(\"Prime numbers:\", prime_numbers)\n"
      ]
    },
    {
      "cell_type": "code",
      "source": [],
      "metadata": {
        "id": "BlDHanKMXLPP"
      },
      "execution_count": null,
      "outputs": []
    },
    {
      "cell_type": "code",
      "source": [
        "\n",
        "# Even numbers from 0 to 100\n",
        "even_numbers = [num for num in range(101) if num % 2 == 0]\n",
        "print(\"Even numbers:\", even_numbers)\n",
        "\n",
        "# Odd numbers from 0 to 100\n",
        "odd_numbers = [num for num in range(101) if num % 2 != 0]\n",
        "print(\"Odd numbers:\", odd_numbers)\n",
        "\n",
        "# Function to check if a number is prime\n",
        "def is_prime(n):\n",
        "  if n < 2:\n",
        "    return False\n",
        "  for i in range(2, int(n**0.5) + 1): # Using **0.5 for square root without numpy\n",
        "    if n % i == 0:\n",
        "      return False\n",
        "  return True\n",
        "\n",
        "# Prime numbers from 0 to 100\n",
        "prime_numbers = [num for num in range(101) if is_prime(num)]\n",
        "print(\"Prime numbers:\", prime_numbers)\n"
      ],
      "metadata": {
        "colab": {
          "base_uri": "https://localhost:8080/"
        },
        "id": "_MOU8EJusyfY",
        "outputId": "e477895b-46ee-4302-e71d-7a5e6632a0d7"
      },
      "execution_count": null,
      "outputs": [
        {
          "output_type": "stream",
          "name": "stdout",
          "text": [
            "Even numbers: [0, 2, 4, 6, 8, 10, 12, 14, 16, 18, 20, 22, 24, 26, 28, 30, 32, 34, 36, 38, 40, 42, 44, 46, 48, 50, 52, 54, 56, 58, 60, 62, 64, 66, 68, 70, 72, 74, 76, 78, 80, 82, 84, 86, 88, 90, 92, 94, 96, 98, 100]\n",
            "Odd numbers: [1, 3, 5, 7, 9, 11, 13, 15, 17, 19, 21, 23, 25, 27, 29, 31, 33, 35, 37, 39, 41, 43, 45, 47, 49, 51, 53, 55, 57, 59, 61, 63, 65, 67, 69, 71, 73, 75, 77, 79, 81, 83, 85, 87, 89, 91, 93, 95, 97, 99]\n",
            "Prime numbers: [2, 3, 5, 7, 11, 13, 17, 19, 23, 29, 31, 37, 41, 43, 47, 53, 59, 61, 67, 71, 73, 79, 83, 89, 97]\n"
          ]
        }
      ]
    },
    {
      "cell_type": "code",
      "source": [
        "import cmath\n",
        "\n",
        "def check_quadratic_roots():\n",
        "    a = float(input(\"Enter the coefficient a: \"))\n",
        "    b = float(input(\"Enter the coefficient b: \"))\n",
        "    c = float(input(\"Enter the coefficient c: \"))\n",
        "\n",
        "    delta = (b**2) - 4 * a * c\n",
        "    sqrt_delta = cmath.sqrt(delta)\n",
        "\n",
        "    root1 = (-b + sqrt_delta) / (2 * a)\n",
        "    root2 = (-b - sqrt_delta) / (2 * a)\n",
        "\n",
        "    if delta > 0:\n",
        "        print(\"Roots are distinct and real.\")\n",
        "    elif delta == 0:\n",
        "        print(\"Roots are equal and real.\")\n",
        "    else:\n",
        "        print(\"Roots are complex.\")\n",
        "\n",
        "    print(f\"Root 1: {root1}\")\n",
        "    print(f\"Root 2: {root2}\")\n",
        "\n",
        "check_quadratic_roots()\n"
      ],
      "metadata": {
        "id": "GrIeZltx3rz2",
        "colab": {
          "base_uri": "https://localhost:8080/"
        },
        "outputId": "416aefc3-e1da-4a8a-f2e9-e1fd39e7fc00"
      },
      "execution_count": 4,
      "outputs": [
        {
          "output_type": "stream",
          "name": "stdout",
          "text": [
            "Enter the coefficient a: 1\n",
            "Enter the coefficient b: 6\n",
            "Enter the coefficient c: 25\n",
            "Roots are complex.\n",
            "Root 1: (-3+4j)\n",
            "Root 2: (-3-4j)\n"
          ]
        }
      ]
    }
  ]
}